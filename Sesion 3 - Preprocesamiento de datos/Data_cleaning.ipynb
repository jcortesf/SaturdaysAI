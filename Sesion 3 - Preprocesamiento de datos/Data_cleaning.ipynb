{
  "nbformat": 4,
  "nbformat_minor": 0,
  "metadata": {
    "kernelspec": {
      "display_name": "Python 3",
      "language": "python",
      "name": "python3"
    },
    "language_info": {
      "codemirror_mode": {
        "name": "ipython",
        "version": 3
      },
      "file_extension": ".py",
      "mimetype": "text/x-python",
      "name": "python",
      "nbconvert_exporter": "python",
      "pygments_lexer": "ipython3",
      "version": "3.7.6"
    },
    "colab": {
      "name": "Data cleaning.ipynb",
      "provenance": [],
      "collapsed_sections": [],
      "toc_visible": true
    }
  },
  "cells": [
    {
      "cell_type": "markdown",
      "metadata": {
        "id": "m4m5gdlzptmb",
        "colab_type": "text"
      },
      "source": [
        "# Data Cleaning: Handling missing Values"
      ]
    },
    {
      "cell_type": "code",
      "metadata": {
        "id": "1XDzN7Elptmc",
        "colab_type": "code",
        "colab": {}
      },
      "source": [
        "# We’re going to be looking at how to deal with missing values :D\n",
        "# To get started, Download the required Dataset which I’m going to use in this tutorial"
      ],
      "execution_count": null,
      "outputs": []
    },
    {
      "cell_type": "code",
      "metadata": {
        "id": "doNWFPnoptmg",
        "colab_type": "code",
        "colab": {}
      },
      "source": [
        "# Import the libs we will use\n",
        "import pandas as pd\n",
        "import numpy as np"
      ],
      "execution_count": null,
      "outputs": []
    },
    {
      "cell_type": "code",
      "metadata": {
        "id": "Dc2NHAo7ptmi",
        "colab_type": "code",
        "colab": {}
      },
      "source": [
        "# read in all our data\n",
        "\n",
        "# Detailed NFL Play-by-Play Data 2009-2018\n",
        "nfl_data = pd.read_csv(\"NFL Play by Play 2009-2017 (v4).csv\", low_memory=False)\n",
        "\n",
        "nfl_data.head(5)"
      ],
      "execution_count": null,
      "outputs": []
    },
    {
      "cell_type": "code",
      "metadata": {
        "id": "Zhdi5efJptml",
        "colab_type": "code",
        "colab": {},
        "outputId": "06390f4a-9f85-42fd-e453-192380040c7a"
      },
      "source": [
        "# getting a sample\n",
        "sample= nfl_data.sample(4)\n",
        "\n",
        "sample"
      ],
      "execution_count": null,
      "outputs": [
        {
          "output_type": "execute_result",
          "data": {
            "text/html": [
              "<div>\n",
              "<style scoped>\n",
              "    .dataframe tbody tr th:only-of-type {\n",
              "        vertical-align: middle;\n",
              "    }\n",
              "\n",
              "    .dataframe tbody tr th {\n",
              "        vertical-align: top;\n",
              "    }\n",
              "\n",
              "    .dataframe thead th {\n",
              "        text-align: right;\n",
              "    }\n",
              "</style>\n",
              "<table border=\"1\" class=\"dataframe\">\n",
              "  <thead>\n",
              "    <tr style=\"text-align: right;\">\n",
              "      <th></th>\n",
              "      <th>Date</th>\n",
              "      <th>GameID</th>\n",
              "      <th>Drive</th>\n",
              "      <th>qtr</th>\n",
              "      <th>down</th>\n",
              "      <th>time</th>\n",
              "      <th>TimeUnder</th>\n",
              "      <th>TimeSecs</th>\n",
              "      <th>PlayTimeDiff</th>\n",
              "      <th>SideofField</th>\n",
              "      <th>...</th>\n",
              "      <th>yacEPA</th>\n",
              "      <th>Home_WP_pre</th>\n",
              "      <th>Away_WP_pre</th>\n",
              "      <th>Home_WP_post</th>\n",
              "      <th>Away_WP_post</th>\n",
              "      <th>Win_Prob</th>\n",
              "      <th>WPA</th>\n",
              "      <th>airWPA</th>\n",
              "      <th>yacWPA</th>\n",
              "      <th>Season</th>\n",
              "    </tr>\n",
              "  </thead>\n",
              "  <tbody>\n",
              "    <tr>\n",
              "      <th>198718</th>\n",
              "      <td>2013-10-20</td>\n",
              "      <td>2013102012</td>\n",
              "      <td>17</td>\n",
              "      <td>2</td>\n",
              "      <td>1.0</td>\n",
              "      <td>00:06</td>\n",
              "      <td>1</td>\n",
              "      <td>1806.0</td>\n",
              "      <td>4.0</td>\n",
              "      <td>DEN</td>\n",
              "      <td>...</td>\n",
              "      <td>NaN</td>\n",
              "      <td>0.858491</td>\n",
              "      <td>0.141509</td>\n",
              "      <td>0.858491</td>\n",
              "      <td>0.141509</td>\n",
              "      <td>0.141509</td>\n",
              "      <td>0.000000</td>\n",
              "      <td>NaN</td>\n",
              "      <td>NaN</td>\n",
              "      <td>2013</td>\n",
              "    </tr>\n",
              "    <tr>\n",
              "      <th>4027</th>\n",
              "      <td>2009-09-20</td>\n",
              "      <td>2009092003</td>\n",
              "      <td>5</td>\n",
              "      <td>2</td>\n",
              "      <td>4.0</td>\n",
              "      <td>11:51</td>\n",
              "      <td>12</td>\n",
              "      <td>2511.0</td>\n",
              "      <td>6.0</td>\n",
              "      <td>ARI</td>\n",
              "      <td>...</td>\n",
              "      <td>NaN</td>\n",
              "      <td>0.319042</td>\n",
              "      <td>0.680958</td>\n",
              "      <td>0.476127</td>\n",
              "      <td>0.523873</td>\n",
              "      <td>0.319042</td>\n",
              "      <td>0.157085</td>\n",
              "      <td>NaN</td>\n",
              "      <td>NaN</td>\n",
              "      <td>2009</td>\n",
              "    </tr>\n",
              "    <tr>\n",
              "      <th>282662</th>\n",
              "      <td>2015-10-11</td>\n",
              "      <td>2015101103</td>\n",
              "      <td>18</td>\n",
              "      <td>4</td>\n",
              "      <td>2.0</td>\n",
              "      <td>03:35</td>\n",
              "      <td>4</td>\n",
              "      <td>215.0</td>\n",
              "      <td>46.0</td>\n",
              "      <td>ATL</td>\n",
              "      <td>...</td>\n",
              "      <td>NaN</td>\n",
              "      <td>0.191746</td>\n",
              "      <td>0.808254</td>\n",
              "      <td>0.198890</td>\n",
              "      <td>0.801110</td>\n",
              "      <td>0.808254</td>\n",
              "      <td>-0.007144</td>\n",
              "      <td>NaN</td>\n",
              "      <td>NaN</td>\n",
              "      <td>2015</td>\n",
              "    </tr>\n",
              "    <tr>\n",
              "      <th>171802</th>\n",
              "      <td>2012-12-16</td>\n",
              "      <td>2012121600</td>\n",
              "      <td>18</td>\n",
              "      <td>4</td>\n",
              "      <td>1.0</td>\n",
              "      <td>12:16</td>\n",
              "      <td>13</td>\n",
              "      <td>736.0</td>\n",
              "      <td>43.0</td>\n",
              "      <td>CHI</td>\n",
              "      <td>...</td>\n",
              "      <td>NaN</td>\n",
              "      <td>0.071993</td>\n",
              "      <td>0.928007</td>\n",
              "      <td>0.080356</td>\n",
              "      <td>0.919644</td>\n",
              "      <td>0.928007</td>\n",
              "      <td>-0.008362</td>\n",
              "      <td>NaN</td>\n",
              "      <td>NaN</td>\n",
              "      <td>2012</td>\n",
              "    </tr>\n",
              "  </tbody>\n",
              "</table>\n",
              "<p>4 rows × 102 columns</p>\n",
              "</div>"
            ],
            "text/plain": [
              "              Date      GameID  Drive  qtr  down   time  TimeUnder  TimeSecs  \\\n",
              "198718  2013-10-20  2013102012     17    2   1.0  00:06          1    1806.0   \n",
              "4027    2009-09-20  2009092003      5    2   4.0  11:51         12    2511.0   \n",
              "282662  2015-10-11  2015101103     18    4   2.0  03:35          4     215.0   \n",
              "171802  2012-12-16  2012121600     18    4   1.0  12:16         13     736.0   \n",
              "\n",
              "        PlayTimeDiff SideofField  ...  yacEPA  Home_WP_pre  Away_WP_pre  \\\n",
              "198718           4.0         DEN  ...     NaN     0.858491     0.141509   \n",
              "4027             6.0         ARI  ...     NaN     0.319042     0.680958   \n",
              "282662          46.0         ATL  ...     NaN     0.191746     0.808254   \n",
              "171802          43.0         CHI  ...     NaN     0.071993     0.928007   \n",
              "\n",
              "        Home_WP_post  Away_WP_post  Win_Prob       WPA airWPA yacWPA  Season  \n",
              "198718      0.858491      0.141509  0.141509  0.000000    NaN    NaN    2013  \n",
              "4027        0.476127      0.523873  0.319042  0.157085    NaN    NaN    2009  \n",
              "282662      0.198890      0.801110  0.808254 -0.007144    NaN    NaN    2015  \n",
              "171802      0.080356      0.919644  0.928007 -0.008362    NaN    NaN    2012  \n",
              "\n",
              "[4 rows x 102 columns]"
            ]
          },
          "metadata": {
            "tags": []
          },
          "execution_count": 5
        }
      ]
    },
    {
      "cell_type": "code",
      "metadata": {
        "id": "Aj7nax-Wptmn",
        "colab_type": "code",
        "colab": {},
        "outputId": "4d8d82a4-e16b-49d4-cd5e-ac264caffe65"
      },
      "source": [
        "# get the number of missing data point per column\n",
        "missing_values_count = nfl_data.isnull().sum()\n",
        "\n",
        "# look at the number of missing points in the first ten columns\n",
        "missing_values_count[0:10]"
      ],
      "execution_count": null,
      "outputs": [
        {
          "output_type": "execute_result",
          "data": {
            "text/plain": [
              "Date                0\n",
              "GameID              0\n",
              "Drive               0\n",
              "qtr                 0\n",
              "down            61154\n",
              "time              224\n",
              "TimeUnder           0\n",
              "TimeSecs          224\n",
              "PlayTimeDiff      444\n",
              "SideofField       528\n",
              "dtype: int64"
            ]
          },
          "metadata": {
            "tags": []
          },
          "execution_count": 6
        }
      ]
    },
    {
      "cell_type": "code",
      "metadata": {
        "id": "DGALhEQkptmq",
        "colab_type": "code",
        "colab": {},
        "outputId": "07a201eb-ab24-4a5f-c7a9-6e55a5eeed02"
      },
      "source": [
        "# That seems like a lot! It might be helpful to see what percentage of the values in our dataset \n",
        "# were missing to give us a better sense of the scale of this problem\n",
        "\n",
        "# how many total missing values do we have?\n",
        "total_cells = np.product(nfl_data.shape)\n",
        "total_missing = missing_values_count.sum()\n",
        "\n",
        "# percent of data that is missing\n",
        "(total_missing/total_cells) * 100"
      ],
      "execution_count": null,
      "outputs": [
        {
          "output_type": "execute_result",
          "data": {
            "text/plain": [
              "24.87214126835169"
            ]
          },
          "metadata": {
            "tags": []
          },
          "execution_count": 7
        }
      ]
    },
    {
      "cell_type": "code",
      "metadata": {
        "id": "8BRlpyllptms",
        "colab_type": "code",
        "colab": {}
      },
      "source": [
        "# Almost a quarter of the cells in this dataset are empty! "
      ],
      "execution_count": null,
      "outputs": []
    },
    {
      "cell_type": "markdown",
      "metadata": {
        "id": "A8y4vPMXptmu",
        "colab_type": "text"
      },
      "source": [
        "# Figure out why the data is missing \n",
        "\n",
        "Is this value missing because it was not recorded or because it does not exist? \n",
        "\n",
        "If a value is missing because it does not exist \n",
        "    Example: \n",
        "        the height of the oldest child of someone who doesn’t have any children\n",
        "        PenalizedTeam: falta el campo porque si no hubo penalización\n",
        "It doesn’t make sense to try and guess what it might be\n",
        "\n",
        "\n",
        "If a value is missing because it was not recorded\n",
        "    Example: \n",
        "        temperature a certain hour \n",
        "        TimeSecs: cantidad de segundos que quedan en el juego cuando se realizó la jugada.\n",
        "You can try to guess what it might have been based on the other values in that column and row\n",
        "\n",
        "\n",
        "If you’re doing very careful data analysis, this is the point at which you’d look at each column individually to figure out the best strategy for filling those missing values."
      ]
    },
    {
      "cell_type": "markdown",
      "metadata": {
        "id": "aUZhSmLjptmv",
        "colab_type": "text"
      },
      "source": [
        "# Drop missing values"
      ]
    },
    {
      "cell_type": "code",
      "metadata": {
        "id": "uR-d0ZgGptmv",
        "colab_type": "code",
        "colab": {},
        "outputId": "107e151a-9215-4f79-ba56-1ed455e281b4"
      },
      "source": [
        "df = pd.DataFrame([[1,      np.nan, 2],\n",
        "                   [2,      3,      5],\n",
        "                    [2,      3,      5],\n",
        "                   [np.nan, 4,      6]])\n",
        "\n",
        "df"
      ],
      "execution_count": null,
      "outputs": [
        {
          "output_type": "execute_result",
          "data": {
            "text/html": [
              "<div>\n",
              "<style scoped>\n",
              "    .dataframe tbody tr th:only-of-type {\n",
              "        vertical-align: middle;\n",
              "    }\n",
              "\n",
              "    .dataframe tbody tr th {\n",
              "        vertical-align: top;\n",
              "    }\n",
              "\n",
              "    .dataframe thead th {\n",
              "        text-align: right;\n",
              "    }\n",
              "</style>\n",
              "<table border=\"1\" class=\"dataframe\">\n",
              "  <thead>\n",
              "    <tr style=\"text-align: right;\">\n",
              "      <th></th>\n",
              "      <th>0</th>\n",
              "      <th>1</th>\n",
              "      <th>2</th>\n",
              "    </tr>\n",
              "  </thead>\n",
              "  <tbody>\n",
              "    <tr>\n",
              "      <th>0</th>\n",
              "      <td>1.0</td>\n",
              "      <td>NaN</td>\n",
              "      <td>2</td>\n",
              "    </tr>\n",
              "    <tr>\n",
              "      <th>1</th>\n",
              "      <td>2.0</td>\n",
              "      <td>3.0</td>\n",
              "      <td>5</td>\n",
              "    </tr>\n",
              "    <tr>\n",
              "      <th>2</th>\n",
              "      <td>2.0</td>\n",
              "      <td>3.0</td>\n",
              "      <td>5</td>\n",
              "    </tr>\n",
              "    <tr>\n",
              "      <th>3</th>\n",
              "      <td>NaN</td>\n",
              "      <td>4.0</td>\n",
              "      <td>6</td>\n",
              "    </tr>\n",
              "  </tbody>\n",
              "</table>\n",
              "</div>"
            ],
            "text/plain": [
              "     0    1  2\n",
              "0  1.0  NaN  2\n",
              "1  2.0  3.0  5\n",
              "2  2.0  3.0  5\n",
              "3  NaN  4.0  6"
            ]
          },
          "metadata": {
            "tags": []
          },
          "execution_count": 10
        }
      ]
    },
    {
      "cell_type": "code",
      "metadata": {
        "id": "7EkostnKptm1",
        "colab_type": "code",
        "colab": {},
        "outputId": "0786a27e-1c2f-444e-cb51-0798cc35a43c"
      },
      "source": [
        "# This will tell us the total number of non null observations present including the total number of entries. \n",
        "# Once number of entries isn’t equal to number of non null observations, we can begin to suspect missing values.\n",
        "\n",
        "df.info() "
      ],
      "execution_count": null,
      "outputs": [
        {
          "output_type": "stream",
          "text": [
            "<class 'pandas.core.frame.DataFrame'>\n",
            "RangeIndex: 4 entries, 0 to 3\n",
            "Data columns (total 3 columns):\n",
            " #   Column  Non-Null Count  Dtype  \n",
            "---  ------  --------------  -----  \n",
            " 0   0       3 non-null      float64\n",
            " 1   1       3 non-null      float64\n",
            " 2   2       4 non-null      int64  \n",
            "dtypes: float64(2), int64(1)\n",
            "memory usage: 224.0 bytes\n"
          ],
          "name": "stdout"
        }
      ]
    },
    {
      "cell_type": "code",
      "metadata": {
        "id": "Z8YHRJdwptm3",
        "colab_type": "code",
        "colab": {},
        "outputId": "c1f3c317-cea2-491b-c681-f5e1eb54db50"
      },
      "source": [
        "# This will tell us the total number of NaN in or data.\n",
        "df.isnull().sum()"
      ],
      "execution_count": null,
      "outputs": [
        {
          "output_type": "execute_result",
          "data": {
            "text/plain": [
              "0    1\n",
              "1    1\n",
              "2    0\n",
              "dtype: int64"
            ]
          },
          "metadata": {
            "tags": []
          },
          "execution_count": 12
        }
      ]
    },
    {
      "cell_type": "code",
      "metadata": {
        "id": "YpRyQnvsptm5",
        "colab_type": "code",
        "colab": {},
        "outputId": "30d79d8a-6045-4892-e133-dde4ff0793bb"
      },
      "source": [
        "# remove all the rows that contain a missing value\n",
        "df.dropna()"
      ],
      "execution_count": null,
      "outputs": [
        {
          "output_type": "execute_result",
          "data": {
            "text/html": [
              "<div>\n",
              "<style scoped>\n",
              "    .dataframe tbody tr th:only-of-type {\n",
              "        vertical-align: middle;\n",
              "    }\n",
              "\n",
              "    .dataframe tbody tr th {\n",
              "        vertical-align: top;\n",
              "    }\n",
              "\n",
              "    .dataframe thead th {\n",
              "        text-align: right;\n",
              "    }\n",
              "</style>\n",
              "<table border=\"1\" class=\"dataframe\">\n",
              "  <thead>\n",
              "    <tr style=\"text-align: right;\">\n",
              "      <th></th>\n",
              "      <th>0</th>\n",
              "      <th>1</th>\n",
              "      <th>2</th>\n",
              "    </tr>\n",
              "  </thead>\n",
              "  <tbody>\n",
              "    <tr>\n",
              "      <th>1</th>\n",
              "      <td>2.0</td>\n",
              "      <td>3.0</td>\n",
              "      <td>5</td>\n",
              "    </tr>\n",
              "    <tr>\n",
              "      <th>2</th>\n",
              "      <td>2.0</td>\n",
              "      <td>3.0</td>\n",
              "      <td>5</td>\n",
              "    </tr>\n",
              "  </tbody>\n",
              "</table>\n",
              "</div>"
            ],
            "text/plain": [
              "     0    1  2\n",
              "1  2.0  3.0  5\n",
              "2  2.0  3.0  5"
            ]
          },
          "metadata": {
            "tags": []
          },
          "execution_count": 13
        }
      ]
    },
    {
      "cell_type": "code",
      "metadata": {
        "id": "hJMJj7JHptm8",
        "colab_type": "code",
        "colab": {},
        "outputId": "6e2f27b7-aefa-45e4-8bf7-2d170d5a8b97"
      },
      "source": [
        "# remove columns the rows that contain a missing value \n",
        "# axis{0 or ‘index’, 1 or ‘columns’}\n",
        "df.dropna(axis=1)"
      ],
      "execution_count": null,
      "outputs": [
        {
          "output_type": "execute_result",
          "data": {
            "text/html": [
              "<div>\n",
              "<style scoped>\n",
              "    .dataframe tbody tr th:only-of-type {\n",
              "        vertical-align: middle;\n",
              "    }\n",
              "\n",
              "    .dataframe tbody tr th {\n",
              "        vertical-align: top;\n",
              "    }\n",
              "\n",
              "    .dataframe thead th {\n",
              "        text-align: right;\n",
              "    }\n",
              "</style>\n",
              "<table border=\"1\" class=\"dataframe\">\n",
              "  <thead>\n",
              "    <tr style=\"text-align: right;\">\n",
              "      <th></th>\n",
              "      <th>2</th>\n",
              "    </tr>\n",
              "  </thead>\n",
              "  <tbody>\n",
              "    <tr>\n",
              "      <th>0</th>\n",
              "      <td>2</td>\n",
              "    </tr>\n",
              "    <tr>\n",
              "      <th>1</th>\n",
              "      <td>5</td>\n",
              "    </tr>\n",
              "    <tr>\n",
              "      <th>2</th>\n",
              "      <td>5</td>\n",
              "    </tr>\n",
              "    <tr>\n",
              "      <th>3</th>\n",
              "      <td>6</td>\n",
              "    </tr>\n",
              "  </tbody>\n",
              "</table>\n",
              "</div>"
            ],
            "text/plain": [
              "   2\n",
              "0  2\n",
              "1  5\n",
              "2  5\n",
              "3  6"
            ]
          },
          "metadata": {
            "tags": []
          },
          "execution_count": 14
        }
      ]
    },
    {
      "cell_type": "code",
      "metadata": {
        "id": "NHJf-t-Hptm-",
        "colab_type": "code",
        "colab": {},
        "outputId": "a54d65c7-bd85-4eb4-f57c-1f54f5cd0f68"
      },
      "source": [
        "df.dropna(axis='columns')"
      ],
      "execution_count": null,
      "outputs": [
        {
          "output_type": "execute_result",
          "data": {
            "text/html": [
              "<div>\n",
              "<style scoped>\n",
              "    .dataframe tbody tr th:only-of-type {\n",
              "        vertical-align: middle;\n",
              "    }\n",
              "\n",
              "    .dataframe tbody tr th {\n",
              "        vertical-align: top;\n",
              "    }\n",
              "\n",
              "    .dataframe thead th {\n",
              "        text-align: right;\n",
              "    }\n",
              "</style>\n",
              "<table border=\"1\" class=\"dataframe\">\n",
              "  <thead>\n",
              "    <tr style=\"text-align: right;\">\n",
              "      <th></th>\n",
              "      <th>2</th>\n",
              "    </tr>\n",
              "  </thead>\n",
              "  <tbody>\n",
              "    <tr>\n",
              "      <th>0</th>\n",
              "      <td>2</td>\n",
              "    </tr>\n",
              "    <tr>\n",
              "      <th>1</th>\n",
              "      <td>5</td>\n",
              "    </tr>\n",
              "    <tr>\n",
              "      <th>2</th>\n",
              "      <td>5</td>\n",
              "    </tr>\n",
              "    <tr>\n",
              "      <th>3</th>\n",
              "      <td>6</td>\n",
              "    </tr>\n",
              "  </tbody>\n",
              "</table>\n",
              "</div>"
            ],
            "text/plain": [
              "   2\n",
              "0  2\n",
              "1  5\n",
              "2  5\n",
              "3  6"
            ]
          },
          "metadata": {
            "tags": []
          },
          "execution_count": 15
        }
      ]
    },
    {
      "cell_type": "code",
      "metadata": {
        "id": "GgLrTLXzptnA",
        "colab_type": "code",
        "colab": {},
        "outputId": "d4bcc015-16a9-4654-fc60-161832cace72"
      },
      "source": [
        "# remove all the rows with at least\n",
        "# thresh \tRequire that many non-NA values.\n",
        "df.dropna(axis='rows', thresh=3)"
      ],
      "execution_count": null,
      "outputs": [
        {
          "output_type": "execute_result",
          "data": {
            "text/html": [
              "<div>\n",
              "<style scoped>\n",
              "    .dataframe tbody tr th:only-of-type {\n",
              "        vertical-align: middle;\n",
              "    }\n",
              "\n",
              "    .dataframe tbody tr th {\n",
              "        vertical-align: top;\n",
              "    }\n",
              "\n",
              "    .dataframe thead th {\n",
              "        text-align: right;\n",
              "    }\n",
              "</style>\n",
              "<table border=\"1\" class=\"dataframe\">\n",
              "  <thead>\n",
              "    <tr style=\"text-align: right;\">\n",
              "      <th></th>\n",
              "      <th>0</th>\n",
              "      <th>1</th>\n",
              "      <th>2</th>\n",
              "    </tr>\n",
              "  </thead>\n",
              "  <tbody>\n",
              "    <tr>\n",
              "      <th>1</th>\n",
              "      <td>2.0</td>\n",
              "      <td>3.0</td>\n",
              "      <td>5</td>\n",
              "    </tr>\n",
              "    <tr>\n",
              "      <th>2</th>\n",
              "      <td>2.0</td>\n",
              "      <td>3.0</td>\n",
              "      <td>5</td>\n",
              "    </tr>\n",
              "  </tbody>\n",
              "</table>\n",
              "</div>"
            ],
            "text/plain": [
              "     0    1  2\n",
              "1  2.0  3.0  5\n",
              "2  2.0  3.0  5"
            ]
          },
          "metadata": {
            "tags": []
          },
          "execution_count": 19
        }
      ]
    },
    {
      "cell_type": "markdown",
      "metadata": {
        "id": "T0nBzJEvptnC",
        "colab_type": "text"
      },
      "source": [
        "# Filling missing values"
      ]
    },
    {
      "cell_type": "code",
      "metadata": {
        "id": "VuXOPCDfptnC",
        "colab_type": "code",
        "colab": {},
        "outputId": "66b3586d-4d8a-43e8-f63d-e53ddcf2bfc5"
      },
      "source": [
        "df"
      ],
      "execution_count": null,
      "outputs": [
        {
          "output_type": "execute_result",
          "data": {
            "text/html": [
              "<div>\n",
              "<style scoped>\n",
              "    .dataframe tbody tr th:only-of-type {\n",
              "        vertical-align: middle;\n",
              "    }\n",
              "\n",
              "    .dataframe tbody tr th {\n",
              "        vertical-align: top;\n",
              "    }\n",
              "\n",
              "    .dataframe thead th {\n",
              "        text-align: right;\n",
              "    }\n",
              "</style>\n",
              "<table border=\"1\" class=\"dataframe\">\n",
              "  <thead>\n",
              "    <tr style=\"text-align: right;\">\n",
              "      <th></th>\n",
              "      <th>0</th>\n",
              "      <th>1</th>\n",
              "      <th>2</th>\n",
              "    </tr>\n",
              "  </thead>\n",
              "  <tbody>\n",
              "    <tr>\n",
              "      <th>0</th>\n",
              "      <td>1.0</td>\n",
              "      <td>NaN</td>\n",
              "      <td>2</td>\n",
              "    </tr>\n",
              "    <tr>\n",
              "      <th>1</th>\n",
              "      <td>2.0</td>\n",
              "      <td>3.0</td>\n",
              "      <td>5</td>\n",
              "    </tr>\n",
              "    <tr>\n",
              "      <th>2</th>\n",
              "      <td>2.0</td>\n",
              "      <td>3.0</td>\n",
              "      <td>5</td>\n",
              "    </tr>\n",
              "    <tr>\n",
              "      <th>3</th>\n",
              "      <td>NaN</td>\n",
              "      <td>4.0</td>\n",
              "      <td>6</td>\n",
              "    </tr>\n",
              "  </tbody>\n",
              "</table>\n",
              "</div>"
            ],
            "text/plain": [
              "     0    1  2\n",
              "0  1.0  NaN  2\n",
              "1  2.0  3.0  5\n",
              "2  2.0  3.0  5\n",
              "3  NaN  4.0  6"
            ]
          },
          "metadata": {
            "tags": []
          },
          "execution_count": 20
        }
      ]
    },
    {
      "cell_type": "code",
      "metadata": {
        "id": "WGHEh5sJptnE",
        "colab_type": "code",
        "colab": {},
        "outputId": "ab7c95d6-9076-4f98-9449-77fd67ce3c09"
      },
      "source": [
        "# One option we have is to specify what we want the NaN values to be replaced with. \n",
        "# Here, I'm saying that I would like to replace all the NaN values with 0.\n",
        "df.fillna(0)"
      ],
      "execution_count": null,
      "outputs": [
        {
          "output_type": "execute_result",
          "data": {
            "text/html": [
              "<div>\n",
              "<style scoped>\n",
              "    .dataframe tbody tr th:only-of-type {\n",
              "        vertical-align: middle;\n",
              "    }\n",
              "\n",
              "    .dataframe tbody tr th {\n",
              "        vertical-align: top;\n",
              "    }\n",
              "\n",
              "    .dataframe thead th {\n",
              "        text-align: right;\n",
              "    }\n",
              "</style>\n",
              "<table border=\"1\" class=\"dataframe\">\n",
              "  <thead>\n",
              "    <tr style=\"text-align: right;\">\n",
              "      <th></th>\n",
              "      <th>0</th>\n",
              "      <th>1</th>\n",
              "      <th>2</th>\n",
              "    </tr>\n",
              "  </thead>\n",
              "  <tbody>\n",
              "    <tr>\n",
              "      <th>0</th>\n",
              "      <td>1.0</td>\n",
              "      <td>0.0</td>\n",
              "      <td>2</td>\n",
              "    </tr>\n",
              "    <tr>\n",
              "      <th>1</th>\n",
              "      <td>2.0</td>\n",
              "      <td>3.0</td>\n",
              "      <td>5</td>\n",
              "    </tr>\n",
              "    <tr>\n",
              "      <th>2</th>\n",
              "      <td>2.0</td>\n",
              "      <td>3.0</td>\n",
              "      <td>5</td>\n",
              "    </tr>\n",
              "    <tr>\n",
              "      <th>3</th>\n",
              "      <td>0.0</td>\n",
              "      <td>4.0</td>\n",
              "      <td>6</td>\n",
              "    </tr>\n",
              "  </tbody>\n",
              "</table>\n",
              "</div>"
            ],
            "text/plain": [
              "     0    1  2\n",
              "0  1.0  0.0  2\n",
              "1  2.0  3.0  5\n",
              "2  2.0  3.0  5\n",
              "3  0.0  4.0  6"
            ]
          },
          "metadata": {
            "tags": []
          },
          "execution_count": 22
        }
      ]
    },
    {
      "cell_type": "code",
      "metadata": {
        "id": "Grt7fXYzptnG",
        "colab_type": "code",
        "colab": {},
        "outputId": "93e432d0-e1f0-4571-9fad-7c8557464ae3"
      },
      "source": [
        "# calculate the mean\n",
        "# skip the Na values while finding the mean \n",
        "df.mean(axis = 0, skipna = True) "
      ],
      "execution_count": null,
      "outputs": [
        {
          "output_type": "execute_result",
          "data": {
            "text/plain": [
              "0    1.666667\n",
              "1    3.333333\n",
              "2    4.500000\n",
              "dtype: float64"
            ]
          },
          "metadata": {
            "tags": []
          },
          "execution_count": 23
        }
      ]
    },
    {
      "cell_type": "code",
      "metadata": {
        "id": "vrwKiVv0ptnI",
        "colab_type": "code",
        "colab": {},
        "outputId": "c62b5c91-e9e9-4397-bbfe-d7eb4f642602"
      },
      "source": [
        "# use the mean to fill the gaps in that column\n",
        "df[1]=df[1].fillna(3.3)\n",
        "df"
      ],
      "execution_count": null,
      "outputs": [
        {
          "output_type": "execute_result",
          "data": {
            "text/html": [
              "<div>\n",
              "<style scoped>\n",
              "    .dataframe tbody tr th:only-of-type {\n",
              "        vertical-align: middle;\n",
              "    }\n",
              "\n",
              "    .dataframe tbody tr th {\n",
              "        vertical-align: top;\n",
              "    }\n",
              "\n",
              "    .dataframe thead th {\n",
              "        text-align: right;\n",
              "    }\n",
              "</style>\n",
              "<table border=\"1\" class=\"dataframe\">\n",
              "  <thead>\n",
              "    <tr style=\"text-align: right;\">\n",
              "      <th></th>\n",
              "      <th>0</th>\n",
              "      <th>1</th>\n",
              "      <th>2</th>\n",
              "    </tr>\n",
              "  </thead>\n",
              "  <tbody>\n",
              "    <tr>\n",
              "      <th>0</th>\n",
              "      <td>1.0</td>\n",
              "      <td>3.3</td>\n",
              "      <td>2</td>\n",
              "    </tr>\n",
              "    <tr>\n",
              "      <th>1</th>\n",
              "      <td>2.0</td>\n",
              "      <td>3.0</td>\n",
              "      <td>5</td>\n",
              "    </tr>\n",
              "    <tr>\n",
              "      <th>2</th>\n",
              "      <td>2.0</td>\n",
              "      <td>3.0</td>\n",
              "      <td>5</td>\n",
              "    </tr>\n",
              "    <tr>\n",
              "      <th>3</th>\n",
              "      <td>NaN</td>\n",
              "      <td>4.0</td>\n",
              "      <td>6</td>\n",
              "    </tr>\n",
              "  </tbody>\n",
              "</table>\n",
              "</div>"
            ],
            "text/plain": [
              "     0    1  2\n",
              "0  1.0  3.3  2\n",
              "1  2.0  3.0  5\n",
              "2  2.0  3.0  5\n",
              "3  NaN  4.0  6"
            ]
          },
          "metadata": {
            "tags": []
          },
          "execution_count": 24
        }
      ]
    },
    {
      "cell_type": "code",
      "metadata": {
        "id": "QlucXcvTptnL",
        "colab_type": "code",
        "colab": {},
        "outputId": "5f42e899-edbb-4f1f-8c6b-e92fb8424aef"
      },
      "source": [
        "# We can specify a backfill use next valid observation to fill the actual gap.\n",
        "df.fillna(method='bfill')"
      ],
      "execution_count": null,
      "outputs": [
        {
          "output_type": "execute_result",
          "data": {
            "text/html": [
              "<div>\n",
              "<style scoped>\n",
              "    .dataframe tbody tr th:only-of-type {\n",
              "        vertical-align: middle;\n",
              "    }\n",
              "\n",
              "    .dataframe tbody tr th {\n",
              "        vertical-align: top;\n",
              "    }\n",
              "\n",
              "    .dataframe thead th {\n",
              "        text-align: right;\n",
              "    }\n",
              "</style>\n",
              "<table border=\"1\" class=\"dataframe\">\n",
              "  <thead>\n",
              "    <tr style=\"text-align: right;\">\n",
              "      <th></th>\n",
              "      <th>0</th>\n",
              "      <th>1</th>\n",
              "      <th>2</th>\n",
              "    </tr>\n",
              "  </thead>\n",
              "  <tbody>\n",
              "    <tr>\n",
              "      <th>0</th>\n",
              "      <td>1.0</td>\n",
              "      <td>3.3</td>\n",
              "      <td>2</td>\n",
              "    </tr>\n",
              "    <tr>\n",
              "      <th>1</th>\n",
              "      <td>2.0</td>\n",
              "      <td>3.0</td>\n",
              "      <td>5</td>\n",
              "    </tr>\n",
              "    <tr>\n",
              "      <th>2</th>\n",
              "      <td>2.0</td>\n",
              "      <td>3.0</td>\n",
              "      <td>5</td>\n",
              "    </tr>\n",
              "    <tr>\n",
              "      <th>3</th>\n",
              "      <td>NaN</td>\n",
              "      <td>4.0</td>\n",
              "      <td>6</td>\n",
              "    </tr>\n",
              "  </tbody>\n",
              "</table>\n",
              "</div>"
            ],
            "text/plain": [
              "     0    1  2\n",
              "0  1.0  3.3  2\n",
              "1  2.0  3.0  5\n",
              "2  2.0  3.0  5\n",
              "3  NaN  4.0  6"
            ]
          },
          "metadata": {
            "tags": []
          },
          "execution_count": 25
        }
      ]
    },
    {
      "cell_type": "code",
      "metadata": {
        "id": "FO9ZGk75ptnM",
        "colab_type": "code",
        "colab": {},
        "outputId": "c5001637-34ab-432c-b25c-0596264579e3"
      },
      "source": [
        "# We can specify a forward-fill use previous valid observation to fill the actual gap\n",
        "df.fillna(method='ffill')"
      ],
      "execution_count": null,
      "outputs": [
        {
          "output_type": "execute_result",
          "data": {
            "text/html": [
              "<div>\n",
              "<style scoped>\n",
              "    .dataframe tbody tr th:only-of-type {\n",
              "        vertical-align: middle;\n",
              "    }\n",
              "\n",
              "    .dataframe tbody tr th {\n",
              "        vertical-align: top;\n",
              "    }\n",
              "\n",
              "    .dataframe thead th {\n",
              "        text-align: right;\n",
              "    }\n",
              "</style>\n",
              "<table border=\"1\" class=\"dataframe\">\n",
              "  <thead>\n",
              "    <tr style=\"text-align: right;\">\n",
              "      <th></th>\n",
              "      <th>0</th>\n",
              "      <th>1</th>\n",
              "      <th>2</th>\n",
              "    </tr>\n",
              "  </thead>\n",
              "  <tbody>\n",
              "    <tr>\n",
              "      <th>0</th>\n",
              "      <td>1.0</td>\n",
              "      <td>3.3</td>\n",
              "      <td>2</td>\n",
              "    </tr>\n",
              "    <tr>\n",
              "      <th>1</th>\n",
              "      <td>2.0</td>\n",
              "      <td>3.0</td>\n",
              "      <td>5</td>\n",
              "    </tr>\n",
              "    <tr>\n",
              "      <th>2</th>\n",
              "      <td>2.0</td>\n",
              "      <td>3.0</td>\n",
              "      <td>5</td>\n",
              "    </tr>\n",
              "    <tr>\n",
              "      <th>3</th>\n",
              "      <td>2.0</td>\n",
              "      <td>4.0</td>\n",
              "      <td>6</td>\n",
              "    </tr>\n",
              "  </tbody>\n",
              "</table>\n",
              "</div>"
            ],
            "text/plain": [
              "     0    1  2\n",
              "0  1.0  3.3  2\n",
              "1  2.0  3.0  5\n",
              "2  2.0  3.0  5\n",
              "3  2.0  4.0  6"
            ]
          },
          "metadata": {
            "tags": []
          },
          "execution_count": 26
        }
      ]
    },
    {
      "cell_type": "markdown",
      "metadata": {
        "id": "ZN0vmlxH6MFV",
        "colab_type": "text"
      },
      "source": [
        "## Fill missing values with KNN"
      ]
    },
    {
      "cell_type": "code",
      "metadata": {
        "id": "kzxuVavE6LIg",
        "colab_type": "code",
        "colab": {}
      },
      "source": [
        "url = 'https://raw.githubusercontent.com/jbrownlee/Datasets/master/horse-colic.csv'\n",
        "data = pd.read_csv(url, header=None, na_values='?')"
      ],
      "execution_count": null,
      "outputs": []
    },
    {
      "cell_type": "code",
      "metadata": {
        "id": "Tfe_u20u7Bar",
        "colab_type": "code",
        "colab": {}
      },
      "source": [
        "data.head()"
      ],
      "execution_count": null,
      "outputs": []
    },
    {
      "cell_type": "code",
      "metadata": {
        "id": "wFJgeRRb66eg",
        "colab_type": "code",
        "colab": {}
      },
      "source": [
        "# summarize the number of rows with missing values for each column\n",
        "for i in range(data.shape[1]):\n",
        "\t# count number of rows with missing values\n",
        "\tn_miss = data[[i]].isnull().sum()\n",
        "\tperc = n_miss / data.shape[0] * 100\n",
        "\tprint('> %d, Missing: %d (%.1f%%)' % (i, n_miss, perc))"
      ],
      "execution_count": null,
      "outputs": []
    },
    {
      "cell_type": "code",
      "metadata": {
        "id": "2qjTH7wm7d25",
        "colab_type": "code",
        "colab": {}
      },
      "source": [
        "# split into input and output elements\n",
        "data = data.values\n",
        "ix = [i for i in range(data.shape[1]) if i != 23]\n",
        "X, y = data[:, ix], data[:, 23]"
      ],
      "execution_count": null,
      "outputs": []
    },
    {
      "cell_type": "code",
      "metadata": {
        "id": "cYgfHK5-7hWA",
        "colab_type": "code",
        "colab": {}
      },
      "source": [
        "X"
      ],
      "execution_count": null,
      "outputs": []
    },
    {
      "cell_type": "code",
      "metadata": {
        "id": "a6bO0BTN7hjG",
        "colab_type": "code",
        "colab": {}
      },
      "source": [
        "y"
      ],
      "execution_count": null,
      "outputs": []
    },
    {
      "cell_type": "code",
      "metadata": {
        "id": "Yu42ZZN166km",
        "colab_type": "code",
        "colab": {}
      },
      "source": [
        "# Impute missing values with KNN\n",
        "from sklearn.impute import KNNImputer\n",
        "\n",
        "# define imputer\n",
        "imputer = KNNImputer(n_neighbors=5, weights='uniform', metric='nan_euclidean')\n",
        "\n",
        "# fit on the dataset\n",
        "imputer.fit(X)\n",
        "\n",
        "# transform the dataset\n",
        "Xtrans = imputer.transform(X)"
      ],
      "execution_count": null,
      "outputs": []
    },
    {
      "cell_type": "code",
      "metadata": {
        "id": "Y1PSRIzV66tD",
        "colab_type": "code",
        "colab": {}
      },
      "source": [
        "# print total missing\n",
        "print('Missing: %d' % sum(np.isnan(Xtrans).flatten()))"
      ],
      "execution_count": null,
      "outputs": []
    },
    {
      "cell_type": "markdown",
      "metadata": {
        "id": "K8Zf7_nCptnP",
        "colab_type": "text"
      },
      "source": [
        "# Drop duplicates"
      ]
    },
    {
      "cell_type": "markdown",
      "metadata": {
        "id": "gV6105XnptnP",
        "colab_type": "text"
      },
      "source": [
        "dataframe.drop_duplicates()\n",
        "    Paramenters\n",
        "        subset: Subset takes a column or list of column label. It’s default value is none. \n",
        "        keep: keep is to control how to consider duplicate value. It has only three distinct value and default is ‘first’.\n",
        "\n",
        "            If ‘first’, it considers first value as unique and rest of the same values as duplicate.\n",
        "            If ‘last’, it considers last value as unique and rest of the same values as duplicate.\n",
        "            If False, it consider all of the same values as duplicates\n",
        "        inplace: Boolean values, removes rows with duplicates if True.\n",
        "\n",
        "    Return type: DataFrame with removed duplicate rows depending on Arguments passed."
      ]
    },
    {
      "cell_type": "code",
      "metadata": {
        "id": "1dOyMY-wptnP",
        "colab_type": "code",
        "colab": {},
        "outputId": "435e7487-4fa5-4628-d541-3904fb85b30d"
      },
      "source": [
        "# dropping ALL duplicte values in the column 0, only keep the first one\n",
        "df.drop_duplicates(subset =[0], \n",
        "                     keep = 'first') "
      ],
      "execution_count": null,
      "outputs": [
        {
          "output_type": "execute_result",
          "data": {
            "text/html": [
              "<div>\n",
              "<style scoped>\n",
              "    .dataframe tbody tr th:only-of-type {\n",
              "        vertical-align: middle;\n",
              "    }\n",
              "\n",
              "    .dataframe tbody tr th {\n",
              "        vertical-align: top;\n",
              "    }\n",
              "\n",
              "    .dataframe thead th {\n",
              "        text-align: right;\n",
              "    }\n",
              "</style>\n",
              "<table border=\"1\" class=\"dataframe\">\n",
              "  <thead>\n",
              "    <tr style=\"text-align: right;\">\n",
              "      <th></th>\n",
              "      <th>0</th>\n",
              "      <th>1</th>\n",
              "      <th>2</th>\n",
              "    </tr>\n",
              "  </thead>\n",
              "  <tbody>\n",
              "    <tr>\n",
              "      <th>0</th>\n",
              "      <td>1.0</td>\n",
              "      <td>3.3</td>\n",
              "      <td>2</td>\n",
              "    </tr>\n",
              "    <tr>\n",
              "      <th>1</th>\n",
              "      <td>2.0</td>\n",
              "      <td>3.0</td>\n",
              "      <td>5</td>\n",
              "    </tr>\n",
              "    <tr>\n",
              "      <th>3</th>\n",
              "      <td>NaN</td>\n",
              "      <td>4.0</td>\n",
              "      <td>6</td>\n",
              "    </tr>\n",
              "  </tbody>\n",
              "</table>\n",
              "</div>"
            ],
            "text/plain": [
              "     0    1  2\n",
              "0  1.0  3.3  2\n",
              "1  2.0  3.0  5\n",
              "3  NaN  4.0  6"
            ]
          },
          "metadata": {
            "tags": []
          },
          "execution_count": 27
        }
      ]
    }
  ]
}