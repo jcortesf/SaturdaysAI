{
 "cells": [
  {
   "cell_type": "markdown",
   "metadata": {},
   "source": [
    "# Naive Bayes\n",
    "\n",
    "## Teoría: Teorema de Bayes\n",
    "\n",
    "Describe la probabilidad de un evento, basada en el conocimiento previo de las condiciones que podrían estar relacionadas con el evento. Usando el teorema de Bayes, podemos encontrar la probabilidad de que ocurra \\\\(y \\\\), dado que ha ocurrido \\\\(x \\\\). Aquí, \\\\(x \\\\) es la evidencia, \\\\(y \\\\) es el conocimiento previo y \\\\(P (x | y) \\\\) es la probabilidad. La suposición que se hace aquí es que los predictores / características son independientes.\n",
    "\n",
    "Su ecuación es la siguiente:\n",
    "\n",
    "\\\\(P (y | x) = \\dfrac {P (x | y) P (y)} {P (x)}\\\\)\n",
    "dónde\n",
    "* \\\\(y, x \\\\) = Eventos\n",
    "* \\\\(P (y | x) \\\\) = Probabilidad de \\\\(y \\\\) dado \\\\(x \\\\)\n",
    "* \\\\(P (x | y) \\\\) = Probabilidad de \\\\(x \\\\) dado \\\\(y \\\\)\n",
    "* \\\\(P (y), P (x) \\\\) = Probabilidades independientes de \\\\(y \\\\) y \\\\(x \\\\)\n",
    "\n",
    "Los métodos de Naive Bayes son un conjunto de algoritmos de aprendizaje supervisado basados en la aplicación del teorema de Bayes con el supuesto \"ingenuo\" de independencia condicional entre cada par de características dado el valor de la variable de clase.\n",
    "\n",
    "En nuestro caso, utilizaremos el dataset de titanic, donde la variable \\\\(y \\\\) es la variable de clase (Supervivencia 0 o 1), que representa si un pasajero sobrevivirá o no dadas las condiciones. La variable \\\\(X \\\\) representa los parámetros / características. \\\\(X \\\\) se da como \\\\(X = (x_ {1}, x_ {2}, ..., x_ {n}) \\\\) y se pueden asignar a Edad, Clase, Sexo, etc. Sustituyendo \\\\ (X \\\\) en la regla de Bayes y expandiendo usando la regla de la cadena obtenemos\n",
    "        \n",
    "\\\\(P (y | x_ {1}, x_ {2}, ..., x_ {n}) = \\dfrac {P (x_ {1} | y) P (x_ {2} | y) .. .P (x_ {n} | y) P (y)} {P (x_ {1}) P (x_ {2}) ... P (x_ {n})} \\\\)\n",
    "\n",
    "Ahora, puede calcular los valores para cada probabilidad mirando el conjunto de datos y sustituirlos en la ecuación. En nuestro caso, la variable de clase \\\\(y \\\\) tiene dos resultados: 0 o 1. Por lo tanto, las probabilidades de supervivencia para cada caso '*Supervivencia*' o '*No supervivencia*' (1 o 0, respectivamente) deben calcularse para cada pasajero. El que tiene la mayor probabilidad es el resultado final. Es decir, si \\\\(P (1)> P (0) \\\\), la persona sobrevivirá."
   ]
  },
  {
   "cell_type": "markdown",
   "metadata": {},
   "source": [
    "## Implementación"
   ]
  },
  {
   "cell_type": "code",
   "execution_count": null,
   "metadata": {
    "_cell_guid": "79c7e3d0-c299-4dcb-8224-4455121ee9b0",
    "_uuid": "d629ff2d2480ee46fbb7e2d37f6b5fab8052498a"
   },
   "outputs": [],
   "source": [
    "import pandas as pd\n",
    "import seaborn as sns\n",
    "\n",
    "\n",
    "df_train=pd.read_csv('train.csv')\n",
    "df_test=pd.read_csv('test.csv')"
   ]
  },
  {
   "cell_type": "markdown",
   "metadata": {},
   "source": [
    "Para simplificar, utilizaremos solo 3 variables: clase, sexo y edad"
   ]
  },
  {
   "cell_type": "code",
   "execution_count": null,
   "metadata": {},
   "outputs": [],
   "source": [
    "sexos={\"male\":0, \"female\":1}\n",
    "df_train.Sex=[sexos[item] for item in df_train.Sex]\n",
    "df_test.Sex=[sexos[item] for item in df_test.Sex]\n",
    "\n",
    "df_train.Age.fillna(df_train.Age.mean(), inplace=True)\n",
    "df_test.Age.fillna(df_test.Age.mean(), inplace=True)\n",
    "\n",
    "df_train.Age=df_train.Age.astype(int)\n",
    "df_test.Age=df_test.Age.astype(int)\n",
    "\n",
    "#A wild plot has appeared, just for the heck of it\n",
    "sns.violinplot(x='Pclass', y='Age', hue='Survived', data=df_train, split=True)\n",
    "\n",
    "#Ages grouped\n",
    "data = [df_train, df_test]\n",
    "for dataset in data:\n",
    "    dataset.loc[ dataset['Age'] <= 11, 'Age'] = 0\n",
    "    dataset.loc[(dataset['Age'] > 11) & (dataset['Age'] <= 18), 'Age'] = 1\n",
    "    dataset.loc[(dataset['Age'] > 18) & (dataset['Age'] <= 22), 'Age'] = 2\n",
    "    dataset.loc[(dataset['Age'] > 22) & (dataset['Age'] <= 27), 'Age'] = 3\n",
    "    dataset.loc[(dataset['Age'] > 27) & (dataset['Age'] <= 33), 'Age'] = 4\n",
    "    dataset.loc[(dataset['Age'] > 33) & (dataset['Age'] <= 40), 'Age'] = 5\n",
    "    dataset.loc[(dataset['Age'] > 40) & (dataset['Age'] <= 66), 'Age'] = 6\n",
    "    dataset.loc[ dataset['Age'] > 66, 'Age'] = 7"
   ]
  },
  {
   "cell_type": "markdown",
   "metadata": {},
   "source": [
    "## La construcción del modelo de aprendizaje automático comienza aquí:\n",
    "\n",
    "Tenemos 3 características, por lo que la regla de Bayes toma la siguiente forma,\n",
    "\n",
    "\\\\( P(y|x_{1}, x_{2},x_{3})= \\dfrac{P(x_{1}|y)P(x_{2}|y)P(x_{3}|y)P(y)}{P(x_{1})P(x_{2})P(x_{3})} \\\\)\n",
    "\n",
    "donde\n",
    "\n",
    "\\\\( P(y) \\\\) = Probabilidad de supervivencia (para 0 y para 1), por lo que es una matriz bidimensional.\n",
    "* \\\\( P(x_{1}) \\\\) = Probabilidad de Pclass, es una matriz tridimensional (indicada como p_Class en el código)\n",
    "* \\\\( P(x_{2}) \\\\) = Probabilidad de género, matriz bidimensional (indicada como p_Sex en el código)\n",
    "* \\\\( P(x_{3}) \\\\) = Probabilidad de edad, matriz de 8 dimensiones (indicada como p_Age en el código)\n",
    "\n",
    "y las probabilidades condicionales\n",
    "\n",
    "*  \\\\( P(x_{1}|y) \\\\) = Probabilidad de supervivencia de Pclass (0 or 1)\n",
    "*  \\\\( P(x_{2}|y) \\\\) = Probabilidad de género dada la supervivencia (0 or 1)\n",
    "*  \\\\( P(x_{3}|y) \\\\) =  Probabilidad de supervivencia dada la edad (0 or 1)\n",
    "\n",
    "The probabilities are calculated below:"
   ]
  },
  {
   "cell_type": "code",
   "execution_count": null,
   "metadata": {},
   "outputs": [],
   "source": [
    "#probabilities of the features\n",
    "    \n",
    "Class_counts=df_train['Pclass'].value_counts()  \n",
    "p_Class=Class_counts/len(df_train)\n",
    "\n",
    "Sex_counts=df_train['Sex'].value_counts()\n",
    "p_Sex=Sex_counts/len(df_train)\n",
    "\n",
    "Age_counts=df_train['Age'].value_counts()\n",
    "p_Age=Age_counts/len(df_train)\n",
    "\n",
    "# Survival and Death probabilities\n",
    "y_counts=df_train['Survived'].value_counts()\n",
    "p_y=y_counts/len(df_train)\n",
    "\n",
    "df_survived=df_train.loc[df_train['Survived'] == 1]\n",
    "df_died=df_train.loc[df_train['Survived'] == 0]\n",
    "\n",
    "# Conditional probabilities\n",
    "#class/survived\n",
    "class_survived_counts=df_survived['Pclass'].value_counts()  \n",
    "p_class_survived=class_survived_counts/len(df_survived)\n",
    "\n",
    "# class/died\n",
    "class_died_counts=df_died['Pclass'].value_counts()  \n",
    "p_class_died=class_died_counts/len(df_died)\n",
    "\n",
    "#sex/survived\n",
    "sex_survived_counts=df_survived['Sex'].value_counts()  \n",
    "p_sex_survived=sex_survived_counts/len(df_survived)\n",
    "\n",
    "sex_died_counts=df_died['Sex'].value_counts()  \n",
    "p_sex_died=sex_died_counts/len(df_died)\n",
    "\n",
    "#Age/survived\n",
    "age_survived_counts=df_survived['Age'].value_counts()  \n",
    "p_age_survived=age_survived_counts/len(df_survived)\n",
    "\n",
    "age_died_counts=df_died['Age'].value_counts()  \n",
    "p_age_died=age_died_counts/len(df_died)"
   ]
  },
  {
   "cell_type": "markdown",
   "metadata": {},
   "source": [
    "Bayes function defined below:"
   ]
  },
  {
   "cell_type": "code",
   "execution_count": null,
   "metadata": {},
   "outputs": [],
   "source": [
    "def Bayes(py, px1y, px2y, px3y, px1, px2, px3):\n",
    "    numerator=px1y*px2y*px3y*py\n",
    "    denominator=px1*px2*px3\n",
    "    p=numerator/denominator\n",
    "    return p"
   ]
  },
  {
   "cell_type": "markdown",
   "metadata": {},
   "source": [
    "Las probabilidades de supervivencia de cada pasajero se calculan a continuación:"
   ]
  },
  {
   "cell_type": "code",
   "execution_count": null,
   "metadata": {},
   "outputs": [],
   "source": [
    "result_array=[]\n",
    "\n",
    "for i in range(0,418):\n",
    "    feature_class=df_test.iloc[i]['Pclass']\n",
    "    feature_sex=df_test.iloc[i]['Sex']\n",
    "    feature_age=df_test.iloc[i]['Age']\n",
    "    \n",
    "    P_Y1=Bayes(p_y[1], p_class_survived[feature_class], p_sex_survived[feature_sex], p_age_survived[feature_age], p_Class[feature_class], p_Sex[feature_sex], p_Age[feature_age])\n",
    "    P_Y0=Bayes(p_y[0], p_class_died[feature_class], p_sex_died[feature_sex], p_age_died[feature_age], p_Class[feature_class], p_Sex[feature_sex], p_Age[feature_age])\n",
    "    \n",
    "    if P_Y0 > P_Y1:\n",
    "        result=0\n",
    "    else:\n",
    "        result=1\n",
    "        \n",
    "    result_array.append(result)\n",
    "\n",
    "\n",
    "output = pd.DataFrame({'PassengerId': df_test.PassengerId,'Survived': result_array})"
   ]
  },
  {
   "cell_type": "code",
   "execution_count": null,
   "metadata": {},
   "outputs": [],
   "source": [
    "output"
   ]
  },
  {
   "cell_type": "markdown",
   "metadata": {},
   "source": [
    "## Usemos scikit-learn"
   ]
  },
  {
   "cell_type": "code",
   "execution_count": null,
   "metadata": {},
   "outputs": [],
   "source": [
    "from sklearn.naive_bayes import GaussianNB\n",
    "from sklearn.model_selection import train_test_split"
   ]
  },
  {
   "cell_type": "code",
   "execution_count": null,
   "metadata": {},
   "outputs": [],
   "source": [
    "X = df_train[[\"Pclass\", \"Age\", \"Sex\"]].dropna(axis=0, how='any')\n",
    "y = df_train[\"Survived\"]"
   ]
  },
  {
   "cell_type": "code",
   "execution_count": null,
   "metadata": {},
   "outputs": [],
   "source": [
    "X_train, X_test, y_train, y_test = train_test_split(X,y, test_size=0.5)"
   ]
  },
  {
   "cell_type": "code",
   "execution_count": null,
   "metadata": {},
   "outputs": [],
   "source": [
    "gnb = GaussianNB()"
   ]
  },
  {
   "cell_type": "code",
   "execution_count": null,
   "metadata": {},
   "outputs": [],
   "source": [
    "gnb.fit(X_train, y_train)"
   ]
  },
  {
   "cell_type": "code",
   "execution_count": null,
   "metadata": {},
   "outputs": [],
   "source": [
    "y_pred = gnb.predict(X_test)"
   ]
  },
  {
   "cell_type": "code",
   "execution_count": null,
   "metadata": {},
   "outputs": [],
   "source": [
    "print(\"Number of mislabeled points out of a total {} points : {}, performance {:05.2f}%\"\n",
    "      .format(\n",
    "          X_test.shape[0],\n",
    "          (y_test != y_pred).sum(),\n",
    "          100*(1-(y_test != y_pred).sum()/X_test.shape[0])\n",
    "))"
   ]
  }
 ],
 "metadata": {
  "kernelspec": {
   "display_name": "Python 3",
   "language": "python",
   "name": "python3"
  },
  "language_info": {
   "codemirror_mode": {
    "name": "ipython",
    "version": 3
   },
   "file_extension": ".py",
   "mimetype": "text/x-python",
   "name": "python",
   "nbconvert_exporter": "python",
   "pygments_lexer": "ipython3",
   "version": "3.7.3"
  }
 },
 "nbformat": 4,
 "nbformat_minor": 4
}
