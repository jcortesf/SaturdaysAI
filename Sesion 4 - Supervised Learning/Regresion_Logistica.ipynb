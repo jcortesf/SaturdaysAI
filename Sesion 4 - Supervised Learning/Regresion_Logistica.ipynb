{
 "cells": [
  {
   "cell_type": "markdown",
   "metadata": {},
   "source": [
    "<h1 style=\"text-align: center;\"> 3. Regresión logística </h1>\n",
    "<br>\n",
    "La regresión logística es similar a la regresión (lineal), pero adaptada para fines de clasificación. La diferencia es pequeña; para la Regresión logística también tenemos que aplicar iterativamente el método de descenso de gradiente para estimar los valores del parámetro $ \\theta $. Y nuevamente, durante la iteración, los valores se estiman tomando el gradiente de la función de costo. Y también, la función de costo viene dada por el error al cuadrado de la diferencia entre la función de hipótesis $ h _{\\theta} (x) $ y $ Y $. Sin embargo, la principal diferencia es la función de hipótesis en sí.\n",
    "\n",
    "Para comprender la función de hipótesis de la regresión logística, primero debemos comprender la idea detrás de la clasificación.\n",
    "\n",
    "Cuando desee clasificar algo, hay un número limitado de clases a las que puede pertenecer. Y para cada una de estas posibles clases, solo puede haber dos estados para $ y ^ {(i)} $;\n",
    "o $ y ^ {(i)} $ pertenece a la clase especificada y $ y = 1 $, o no pertenece a la clase y $ y = 0 $. Aunque los valores de salida $ Y $ son binarios, las variables independientes $ X $ siguen siendo continuas. Entonces, necesitamos una función que tenga como entrada un gran conjunto de variables continuas $ X $ y para cada una de estas variables produzca una salida binaria. Esta función, la función de hipótesis, tiene la siguiente forma:\n",
    "\n",
    "$ h_{\\theta} = \\frac{1}{1 + \\exp(-z)} = \\frac{1}{1 + \\exp(-\\theta x)} $.\n",
    "\n",
    "Esta función también se conoce como función logística, que forma parte de la familia de la función sigmoidea. Estas funciones se utilizan ampliamente en las ciencias naturales porque proporcionan el modelo más simple para el crecimiento de la población. Sin embargo, la razón por la que la función logística se utiliza para la clasificación en Machine Learning es su 'forma de S'.\n",
    "\n",
    "<img src=\"img/Logistic-curve.svg_-350x233.png\"/>\n",
    "\n",
    "Como puede ver, esta función está limitada en la dirección y por 0 y 1. Si la variable $ z $ es muy negativa, la función de salida irá a cero (no pertenece a la clase). Si la variable $ z $ es muy positiva, la salida será uno y pertenece a la clase.\n",
    "(Esta función se denomina función indicadora).\n",
    "\n",
    "La pregunta entonces es, ¿qué pasará con los valores de entrada que no son ni muy positivos ni muy negativos, sino en algún lugar \"en el medio\"? Tenemos que definir un límite de decisión, que separa la clase positiva de la negativa. Por lo general, este límite de decisión se elige en el medio de la función logística, es decir, en $ z = 0 $ donde el valor de salida $ y $ es $ 0.5 $.\n",
    "\n",
    "\\begin{equation}\n",
    "y =\\begin{cases}\n",
    "1, \\text{si $z \\gt  0 $}.\\\\\n",
    "0, \\text{si $z \\lt 0 $}.\n",
    "\\end{cases}\n",
    "\\end{equation}\n",
    "\n",
    "Como podemos ver en la fórmula de la función logística, $ z = \\theta \\cdot x $. Es decir, el parámetro dependiente $ \\theta $ (también conocido como la característica), asigna la variable de entrada $ x $ a una posición en el eje $ z $. Con su valor $ z $, podemos usar la función logística para calcular el valor $ y $. Si este $ y $ -valor $ \\gt 0.5 $ asumimos que pertenece a esta clase y viceversa.\n",
    "\n",
    "Entonces, la característica $ \\theta $ debe elegirse de manera que prediga la pertenencia a la clase correctamente. Por tanto, es fundamental saber qué características son útiles para la tarea de clasificación. Una vez que se  seleccionan las funciones adecuadas, se puede utilizar el descenso de gradiente para encontrar el valor óptimo de estas funciones.\n",
    "\n",
    "¿Cómo podemos hacer un descenso de gradientes con esta función logística? Excepto por la función de hipótesis que tiene una forma diferente, el método de descenso de gradiente es exactamente el mismo. De nuevo tenemos una función de costo, de la cual tenemos que tomar iterativamente el gradientec con respecto a la característica $ \\theta $ y actualice el valor de la característica en cada iteración.\n",
    "\n",
    "Esta función de costo viene dada por la función logarítmica de verosimilitud conocida como entropía cruzada binaria:\n",
    "\n",
    "&nbsp;\n",
    "\n",
    "\\begin{equation}\n",
    "\\begin{split}\n",
    "J(x) = -\\frac{1}{2n} \\sum_i^n \\left(  y^{(i)} log( h_{\\theta}(x^{(i)})) + (1-y^{(i)})log(1-h_{\\theta}(x^{(i)})) \\right) \\\\\n",
    " = -\\frac{1}{2n} \\sum_i^n \\left( y^{(i)} log(\\frac{1}{1+exp(-\\theta x)}) + (1-y^{(i)})log(1-\\frac{1}{1+exp(-\\theta x)}) \\right)\n",
    "\\end{split}\n",
    "\\end{equation}\n",
    "\n",
    "&nbsp;\n",
    "\n",
    "Sabemos que:<br>\n",
    "$ log(\\frac{1}{1+exp(-\\theta x)}) = log(1) - log(1+exp(-\\theta x)) = - log(1+exp(-\\theta x))$\n",
    "\n",
    "y<br>\n",
    "\n",
    "$ log(1-\\frac{1}{1+exp(-\\theta x)}) = log( \\frac{exp(-\\theta x)}{1+exp(-\\theta x)}) $\n",
    "\n",
    "$ = log(exp(-\\theta x)) - log(1+exp(-\\theta x)) $\n",
    "\n",
    "$ = -\\theta x^{(i)} -  log(1+exp(-\\theta x)) $\n",
    "\n",
    "Reemplazar estas dos ecuaciones en la función de costo nos da:\n",
    "\n",
    "\\begin{equation}\n",
    "\\begin{split}\n",
    "J(x)  = - \\frac{1}{2n} \\sum_i^n \\left( - y^{(i)} log(1+exp(-\\theta x)) - (1-y^{(i)})(\\theta x^{(i)} +  log(1+exp(-\\theta x))) \\right) \\\\\n",
    " = - \\frac{1}{2n} \\sum_i^n \\left(  y^{(i)} \\theta x^{(i)} -\\theta x^{(i)} -log(1+exp(-\\theta x)) \\right)\n",
    "\\end{split}\n",
    "\\end{equation}\n",
    "&nbsp;\n",
    "\n",
    "El gradiente de la función de costo con respecto a $ \\theta $ está dado por\n",
    "\n",
    "\\begin{align}\n",
    "\\frac{d}{d\\theta} J(x) = - \\frac{1}{2n} \\sum_i^n \\left(  y^{(i)} x^{(i)} - x^{(i)} + x^{(i)} \\frac{ exp(-\\theta x)}{1+exp(-\\theta x)} \\right) \\\\\n",
    " = - \\frac{1}{2n} \\sum_i^n \\left( x^{(i)} ( y^{(i)} - 1 +\\frac{exp(-\\theta x)}{1+exp(-\\theta x)} ) \\right) \\\\\n",
    " = - \\frac{1}{2n} \\sum_i^n  \\left( x^{(i)} ( y^{(i)} - \\frac{1}{1+exp(-\\theta x)} ) \\right) \\\\\n",
    " = - \\frac{1}{2n} \\sum_i^n  \\left( x^{(i)} ( y^{(i)} - h_{\\theta}(x^{(i)}) )\\right)\n",
    "\\end{align}\n",
    "\n",
    "&nbsp;\n",
    "\n",
    "Entonces, el gradiente de la función de costo aparentemente difícil resulta ser una ecuación mucho más simple. Y dado que es el gradiente que usamos para actualizar los valores de $ \\theta $, esto hace que nuestro trabajo sea mucho más fácil.\n",
    "\n",
    "El descenso de gradiente para la regresión logística se realiza nuevamente de la misma manera:\n",
    "\n",
    "<ul>\n",
    "<li> Haga una suposición inicial pero inteligente de los valores de los parámetros $ \\theta $. </li>\n",
    "<li> Siga iterando mientras el valor de la función de costo no cumpla con sus criterios:\n",
    "<ul>\n",
    "<li> Con los valores actuales de $ \\theta $, calcule el gradiente de la función de costo J ($ \\Delta \\theta = - \\alpha \\frac{d}{d \\theta} J (x) $). </ li>\n",
    "<li> Actualice los valores de los parámetros $ \\theta: = \\theta + \\alpha \\Delta \\theta $ </li>\n",
    "<li> Complete estos nuevos valores en la función de hipótesis y calcule nuevamente el valor de la función de costo; </li>\n",
    "</ul>\n",
    "</li>\n",
    "</ul>\n",
    "\n",
    "\n",
    "\n",
    "<h1 style=\"text-align: center;\"> 4. Implementación </h1>\n",
    "<br>\n",
    "Ahora que hemos visto la teoría, echemos un vistazo a un ejemplo de regresión logística. Empezaremos con el ejemplo de alumnos que aprueban o no un curso.\n",
    "\n",
    "Generemos algunos puntos de datos. Hay $ n = 300 $ estudiantes participando en el curso Machine Learning y si un estudiante $ i $ aprueba ($ y_i = 1 $) o no ($ y_i = 0 $) depende de dos variables;\n",
    "\n",
    "<ul>\n",
    "  <li> $ x_i ^ {(1)} $: cuántas horas ha estudiado el estudiante $ i $ para el examen. </li>\n",
    "  <li> $ x_i ^ {(2)} $: cuántas horas ha dormido el estudiante $ i $ el día antes del examen. </li>\n",
    "</ul>\n",
    "&nbsp;\n",
    "\n",
    "En nuestro ejemplo, los resultados son bastante binarios; todos los que hayan estudiado menos de 4 horas reprobaron el curso, así como todos aquellos cuyo tiempo de estudio + tiempo de sueño sea menor o igual a 13 horas ($ x_i ^ {(1)} + x_i ^ {(2)} \\leq 13 $)\n",
    "\n"
   ]
  },
  {
   "cell_type": "code",
   "execution_count": null,
   "metadata": {
    "collapsed": false,
    "jupyter": {
     "outputs_hidden": false
    }
   },
   "outputs": [],
   "source": [
    "import random\n",
    "import numpy as np\n",
    "\n",
    "def func2(x_i):\n",
    "    if x_i[1]+x_i[2] >= 13: \n",
    "        return 0\n",
    "    else:\n",
    "        return 1\n",
    "\n",
    "def generate_data2(no_points):\n",
    "    X = np.zeros(shape=(no_points, 3))\n",
    "    Y = np.zeros(shape=no_points)\n",
    "    for ii in range(no_points):\n",
    "        X[ii][0] = 1\n",
    "        X[ii][1] = random.random()*9+0.5\n",
    "        X[ii][2] = random.random()*9+0.5\n",
    "        Y[ii] = func2(X[ii])\n",
    "    return X, Y\n",
    "\n",
    "X, Y = generate_data2(300)"
   ]
  },
  {
   "cell_type": "markdown",
   "metadata": {},
   "source": [
    "Los resultados se ven así (los puntos verdes indican un pase y los puntos rojos un fallo)\n",
    "\n",
    "<img src=\"img/logistic_regression_1.png\">"
   ]
  },
  {
   "cell_type": "markdown",
   "metadata": {},
   "source": [
    "Tenemos una clase *LogisticRegression*, que establece los valores de la tasa de aprendizaje $ \\alpha $ y el número máximo de iteraciones *max_iter* en su inicialización. <br>\n",
    "\n",
    "Los valores de *X*, *Y* se establecen cuando estas matrices se pasan a la función \"train ()\", y luego se determinan los valores de no_examples, no_features y theta. <br>\n",
    "<br>\n",
    "También tenemos las funciones de hipótesis, costo y gradiente. <br>\n",
    "<br>\n",
    "El método de descenso de gradiente utiliza estos métodos para actualizar los valores de $\\theta $. <br>\n",
    "<br>\n",
    "El método \"train ()\", primero establece los valores de las matrices X, Y y theta, y luego llama al método gradient_descent. <br>\n",
    "<br>\n",
    "Una vez que se han determinado los valores de $ \\theta $ con el método de descenso de gradiente, el entrenamiento del clasificador está completo y podemos usarlo para clasificar nuevos ejemplos."
   ]
  },
  {
   "cell_type": "code",
   "execution_count": null,
   "metadata": {
    "collapsed": false,
    "jupyter": {
     "outputs_hidden": false
    }
   },
   "outputs": [],
   "source": [
    "import numpy as np\n",
    "\n",
    "class LogisticRegression():\n",
    "    \"\"\"\n",
    "    Class for performing logistic regression.\n",
    "    \"\"\"\n",
    "    def __init__(self, learning_rate = 0.7, max_iter = 1000):\n",
    "        self.learning_rate = learning_rate\n",
    "        self.max_iter = max_iter\n",
    "        self.theta = []\n",
    "        self.no_examples = 0\n",
    "        self.no_features = 0\n",
    "        self.X = None\n",
    "        self.Y = None\n",
    "        \n",
    "    def add_bias_col(self, X):\n",
    "        bias_col = np.ones((X.shape[0], 1))\n",
    "        return np.concatenate([bias_col, X], axis=1)\n",
    "              \n",
    "    def hypothesis(self, X):\n",
    "        return 1 / (1 + np.exp(-1.0 * np.dot(X, self.theta)))\n",
    "\n",
    "    def cost_function(self):\n",
    "        \"\"\"\n",
    "        We will use the binary cross entropy as the cost function. https://en.wikipedia.org/wiki/Cross_entropy\n",
    "        \"\"\"\n",
    "        predicted_Y_values = self.hypothesis(self.X)\n",
    "        cost = (-1.0/self.no_examples) * np.sum(self.Y * np.log(predicted_Y_values) + (1 - self.Y) * (np.log(1-predicted_Y_values)))\n",
    "        return cost\n",
    "        \n",
    "    def gradient(self):\n",
    "        predicted_Y_values = self.hypothesis(self.X)\n",
    "        grad = (-1.0/self.no_examples) * np.dot((self.Y-predicted_Y_values), self.X)\n",
    "        return grad\n",
    "        \n",
    "    def gradient_descent(self):\n",
    "        for iter in range(1,self.max_iter):\n",
    "            cost = self.cost_function()\n",
    "            delta = self.gradient()\n",
    "            self.theta = self.theta - self.learning_rate * delta\n",
    "            if iter % 100 == 0: print(\"iteration %s : cost %s \" % (iter, cost))\n",
    "        \n",
    "    def train(self, X, Y):\n",
    "        self.X = self.add_bias_col(X)\n",
    "        self.Y = Y\n",
    "        self.no_examples, self.no_features = np.shape(X)\n",
    "        self.theta = np.ones(self.no_features + 1)\n",
    "        self.gradient_descent()\n",
    "  \n",
    "    def classify(self, X):\n",
    "        X = self.add_bias_col(X)\n",
    "        predicted_Y = self.hypothesis(X)\n",
    "        predicted_Y_binary = np.round(predicted_Y)\n",
    "        return predicted_Y_binary"
   ]
  },
  {
   "cell_type": "code",
   "execution_count": null,
   "metadata": {},
   "outputs": [],
   "source": [
    "lr = LogisticRegression()\n",
    "lr.train(X, Y)\n",
    "predicted_Y = lr.classify(X)"
   ]
  },
  {
   "cell_type": "code",
   "execution_count": null,
   "metadata": {},
   "outputs": [],
   "source": [
    "Y"
   ]
  },
  {
   "cell_type": "code",
   "execution_count": null,
   "metadata": {},
   "outputs": [],
   "source": [
    "predicted_Y"
   ]
  },
  {
   "cell_type": "markdown",
   "metadata": {},
   "source": [
    "<h2> Ejemplo 2: conjunto de datos Iris </h2>\n",
    "\n",
    "Ahora que el concepto de regresión logística es un poco más claro, ¡clasifiquemos los datos del mundo real!\n",
    "\n",
    "\n",
    "Uno de los conjuntos de datos de clasificación más famosos es el conjunto de datos de flores de iris. Este conjunto de datos consta de tres clases, donde cada ejemplo tiene cuatro características numéricas:\n"
   ]
  },
  {
   "cell_type": "code",
   "execution_count": null,
   "metadata": {},
   "outputs": [],
   "source": [
    "from collections import Counter\n",
    "\n",
    "def all_positives(determined_Y, label):\n",
    "    return Counter(determined_Y)[label]\n",
    "\n",
    "def true_positives(determined_Y, real_Y, label):\n",
    "    true_positives = 0\n",
    "    for ii in range(0,len(determined_Y)):\n",
    "        if determined_Y[ii] == label and real_Y[ii] == label: \n",
    "            true_positives+=1\n",
    "    return true_positives\n",
    "\n",
    "def false_negatives(determined_Y, real_Y, label):\n",
    "    false_negatives = 0\n",
    "    for ii in range(0,len(determined_Y)):\n",
    "        if determined_Y[ii] != label and real_Y[ii] == label: \n",
    "            false_negatives+=1\n",
    "    return false_negatives\n",
    "\n",
    "def precision(determined_Y, real_Y, label):\n",
    "    if float(all_positives(determined_Y, label)) == 0: return 0\n",
    "    return true_positives(determined_Y, real_Y, label) / float(all_positives(determined_Y, label))\n",
    "\n",
    "def recall(determined_Y, real_Y, label):\n",
    "    denominator = float((true_positives(determined_Y, real_Y, label) + false_negatives(determined_Y, real_Y, label)))\n",
    "    if denominator == 0: return 0\n",
    "    return true_positives(determined_Y, real_Y, label) / denominator\n",
    "\n",
    "def f1_score(determined_Y, real_Y, label = 1):\n",
    "    p = precision(determined_Y, real_Y, label)\n",
    "    r = recall(determined_Y, real_Y, label)\n",
    "    if p + r == 0: return 0\n",
    "    f1 = 2 * (p * r) / (p + r)\n",
    "    return f1"
   ]
  },
  {
   "cell_type": "code",
   "execution_count": null,
   "metadata": {
    "collapsed": false,
    "jupyter": {
     "outputs_hidden": false
    }
   },
   "outputs": [],
   "source": [
    "import pandas as pd\n",
    " \n",
    "to_bin_y = { 1: { 'Iris-setosa': 1, 'Iris-versicolor': 0, 'Iris-virginica': 0 },\n",
    "             2: { 'Iris-setosa': 0, 'Iris-versicolor': 1, 'Iris-virginica': 0 },\n",
    "             3: { 'Iris-setosa': 0, 'Iris-versicolor': 0, 'Iris-virginica': 1 }\n",
    "             }\n",
    " \n",
    "#loading the dataset\n",
    "datafile = 'iris.data'\n",
    "df = pd.read_csv(datafile, header=None)\n",
    "df_train = df.sample(frac=0.7)\n",
    "df_test = df.loc[~df.index.isin(df_train.index)]\n",
    "X_train = df_train.values[:,0:4].astype(float)\n",
    "y_train = df_train.values[:,4]\n",
    "X_test = df_test.values[:,0:4].astype(float)\n",
    "y_test = df_test.values[:,4]\n",
    " \n",
    "Y_train = np.array([to_bin_y[3][x] for x in y_train])\n",
    "Y_test = np.array([to_bin_y[3][x] for x in y_test])\n",
    " \n",
    "print(\"training Logistic Regression Classifier\")\n",
    "lr = LogisticRegression()\n",
    "lr.train(X_train, Y_train)\n",
    "print(\"trained\")\n",
    "predicted_Y_test = lr.classify(X_test)\n",
    "f1 = f1_score(predicted_Y_test, Y_test, 1)\n",
    "print(\"F1-score on the test-set for class %s is: %s\" % (1, f1))"
   ]
  },
  {
   "cell_type": "markdown",
   "metadata": {},
   "source": [
    "Como puede ver, nuestra clase simple LogisticRegression puede clasificar el conjunto de datos de Iris con una gran precisión."
   ]
  },
  {
   "cell_type": "markdown",
   "metadata": {},
   "source": [
    "## Usemos scikit-learn"
   ]
  },
  {
   "cell_type": "code",
   "execution_count": null,
   "metadata": {},
   "outputs": [],
   "source": [
    "import numpy as np\n",
    "import matplotlib.pyplot as plt\n",
    "from sklearn.linear_model import LogisticRegression\n",
    "from sklearn import datasets\n",
    "\n",
    "# import some data to play with\n",
    "iris = datasets.load_iris()\n",
    "X = iris.data\n",
    "y = iris.target"
   ]
  },
  {
   "cell_type": "code",
   "execution_count": null,
   "metadata": {},
   "outputs": [],
   "source": [
    "print(iris[\"DESCR\"])"
   ]
  },
  {
   "cell_type": "code",
   "execution_count": null,
   "metadata": {},
   "outputs": [],
   "source": [
    "plt.plot(X[:, 0][y == 0]* X[:, 1][y == 0], X[:, 1][y == 0]* X[:, 2][y == 0], 'r.', label='satosa')\n",
    "plt.plot(X[:, 0][y == 1]* X[:, 1][y == 1], X[:, 1][y == 1]* X[:, 2][y == 1], 'b.', label='versicolor')\n",
    "plt.plot(X[:, 0][y == 2]* X[:, 1][y == 2], X[:, 1][y == 2]* X[:, 2][y == 2], 'g.', label='virginica')\n",
    "plt.legend()\n",
    "plt.show()"
   ]
  },
  {
   "cell_type": "code",
   "execution_count": null,
   "metadata": {},
   "outputs": [],
   "source": [
    "from sklearn.model_selection import train_test_split\n",
    "X_train, X_test, y_train, y_test = train_test_split(X,y)"
   ]
  },
  {
   "cell_type": "code",
   "execution_count": null,
   "metadata": {},
   "outputs": [],
   "source": [
    "log_reg = LogisticRegression(C=1e5, max_iter=1000)"
   ]
  },
  {
   "cell_type": "code",
   "execution_count": null,
   "metadata": {},
   "outputs": [],
   "source": [
    "log_reg.fit(X_train, y_train)"
   ]
  },
  {
   "cell_type": "code",
   "execution_count": null,
   "metadata": {},
   "outputs": [],
   "source": [
    "log_reg.score(X_test, y_test)"
   ]
  }
 ],
 "metadata": {
  "anaconda-cloud": {},
  "kernelspec": {
   "display_name": "Python 3",
   "language": "python",
   "name": "python3"
  },
  "language_info": {
   "codemirror_mode": {
    "name": "ipython",
    "version": 3
   },
   "file_extension": ".py",
   "mimetype": "text/x-python",
   "name": "python",
   "nbconvert_exporter": "python",
   "pygments_lexer": "ipython3",
   "version": "3.7.3"
  }
 },
 "nbformat": 4,
 "nbformat_minor": 4
}
